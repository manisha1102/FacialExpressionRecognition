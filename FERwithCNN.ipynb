{
 "cells": [
  {
   "cell_type": "code",
   "execution_count": null,
   "metadata": {
    "id": "VdeTU8OlP5-D"
   },
   "outputs": [],
   "source": [
    "%tensorflow_version 1.x"
   ]
  },
  {
   "cell_type": "code",
   "execution_count": null,
   "metadata": {
    "id": "Pj36Pb2mQAW6"
   },
   "outputs": [],
   "source": [
    "import numpy as np\n",
    "import tensorflow as tf\n",
    "import matplotlib.pyplot as plt\n",
    "%matplotlib inline"
   ]
  },
  {
   "cell_type": "code",
   "execution_count": 1,
   "metadata": {
    "id": "nyvWuU_BRpal"
   },
   "outputs": [],
   "source": [
    "from sklearn.utils import shuffle"
   ]
  },
  {
   "cell_type": "code",
   "execution_count": null,
   "metadata": {
    "id": "klSAHklXVhVx"
   },
   "outputs": [],
   "source": [
    "!pip install -U -q PyDrive\n",
    "from pydrive.auth import GoogleAuth\n",
    "from pydrive.drive import GoogleDrive\n",
    "from google.colab import auth\n",
    "from oauth2client.client import GoogleCredentials"
   ]
  },
  {
   "cell_type": "code",
   "execution_count": null,
   "metadata": {
    "id": "W02omqeAWMSU"
   },
   "outputs": [],
   "source": [
    "auth.authenticate_user()\n",
    "gauth = GoogleAuth()\n",
    "gauth.credentials = GoogleCredentials.get_application_default()\n",
    "drive = GoogleDrive(gauth)"
   ]
  },
  {
   "cell_type": "code",
   "execution_count": null,
   "metadata": {
    "id": "9wdG8r3QWubk"
   },
   "outputs": [],
   "source": [
    "downloaded = drive.CreateFile({'id':'19lK2ZuvmN6LeHfpuYXd2tBNUD34rndFb'})\n",
    "downloaded.GetContentFile('fer2013.csv')"
   ]
  },
  {
   "cell_type": "code",
   "execution_count": null,
   "metadata": {
    "id": "-Y2RdqfTUG2I"
   },
   "outputs": [],
   "source": [
    "def getData(balance_ones = True , Ntest= 1000):\n",
    "  X =[]\n",
    "  Y =[]\n",
    "  first = True\n",
    "  for line in open('fer2013.csv'):\n",
    "    if first:\n",
    "      first = False\n",
    "    else:\n",
    "      row = line.split(',')\n",
    "      Y.append(int(row[0]))\n",
    "      X.append([int(p) for p in row[1].split()])\n",
    "  \n",
    "  X,Y = np.array(X)/255.0 , np.array(Y)\n",
    "  X , Y = shuffle(X,Y)\n",
    "  Xtrain , Ytrain = X[:-Ntest] , Y[:-Ntest]\n",
    "  Xvalid , Yvalid = X[-Ntest:] , Y[-Ntest:]\n",
    "  if balance_ones:\n",
    "    X0,Y0 = Xtrain[Ytrain!=1, :] , Ytrain[Ytrain!=1]\n",
    "    X1 = Xtrain[Ytrain==1, :]\n",
    "    X1 = np.repeat(X1 , 9 , axis=0)\n",
    "    Xtrain = np.vstack([X0,X1])\n",
    "    Ytrain = np.concatenate((Y0 , [1]*len(X1)))\n",
    "    return Xtrain , Ytrain , Xvalid , Yvalid"
   ]
  },
  {
   "cell_type": "code",
   "execution_count": null,
   "metadata": {
    "id": "mTyXhcWcgh2N"
   },
   "outputs": [],
   "source": [
    "def getImageData():\n",
    "  Xtrain , Ytrain , Xvalid , Yvalid = getData()\n",
    "  N,D = Xtrain.shape\n",
    "  d = int(np.sqrt(D))\n",
    "  Xtrain = Xtrain.reshape(-1,d,d,1)\n",
    "  Xvalid = Xvalid.reshape(-1,d,d,1)\n",
    "  return Xtrain , Ytrain , Xvalid , Yvalid"
   ]
  },
  {
   "cell_type": "code",
   "execution_count": null,
   "metadata": {
    "id": "gZXWlNKcit2y"
   },
   "outputs": [],
   "source": [
    "def error_rate(targets , predictions):\n",
    "  return np.mean(targets != predictions)"
   ]
  },
  {
   "cell_type": "code",
   "execution_count": null,
   "metadata": {
    "id": "2CfmrGuckaIA"
   },
   "outputs": [],
   "source": [
    "def init_weight_and_bias(M1,M2):\n",
    "  w = np.random.randn(M1,M2) / np.sqrt(M1)\n",
    "  b = np.zeros(M2)\n",
    "  return w.astype(np.float32) , b.astype(np.float32)"
   ]
  },
  {
   "cell_type": "code",
   "execution_count": null,
   "metadata": {
    "id": "TTB0ttX5lxR9"
   },
   "outputs": [],
   "source": [
    "def y2indicator(y):\n",
    "  N = len(y)\n",
    "  K = len(set(y))\n",
    "  ind = np.zeros((N,K))\n",
    "  for i in range(N):\n",
    "    ind[i , y[i]] = 1\n",
    "  return ind"
   ]
  },
  {
   "cell_type": "code",
   "execution_count": null,
   "metadata": {
    "id": "xg7ess7lnYRb"
   },
   "outputs": [],
   "source": [
    "class HiddenLayer(object):\n",
    "  def __init__(self,M1,M2,an_id):\n",
    "    self.id = an_id\n",
    "    self.M1 = M1\n",
    "    self.M2 = M2\n",
    "    w,b = init_weight_and_bias(M1,M2)\n",
    "    self.w = tf.Variable(w.astype(np.float32))\n",
    "    self.b = tf.Variable(b.astype(np.float32))\n",
    "    self.params = [self.w , self.b]\n",
    "\n",
    "  def forward(self,X):\n",
    "    return tf.nn.relu(tf.matmul(X, self.w) + self.b)"
   ]
  },
  {
   "cell_type": "code",
   "execution_count": null,
   "metadata": {
    "id": "4jUzRW14GFH1"
   },
   "outputs": [],
   "source": [
    "def init_filter(shape, poolsz):\n",
    "  w = np.random.randn(*shape) *np.sqrt(2) / np.sqrt(np.prod(shape[:-1]) +shape[-1]*np.prod(shape[:-2] / np.prod(poolsz)))\n",
    "  return w.astype(np.float32)"
   ]
  },
  {
   "cell_type": "code",
   "execution_count": null,
   "metadata": {
    "id": "9ZdKYcPZJKfP"
   },
   "outputs": [],
   "source": [
    "class ConvPoolLayer(object):\n",
    "  def __init__(self, mi, mo, fw=5, fh=5, poolsz=(2,2)):\n",
    "    sz = (fw, fh, mi, mo)\n",
    "    W0 = init_filter(sz, poolsz)\n",
    "    self.w = tf.Variable(W0)\n",
    "    b0 = np.zeros(mo , dtype=np.float32)\n",
    "    self.b = tf.Variable(b0)\n",
    "    self.poolsz = poolsz\n",
    "    self.params = [self.w, self.b]\n",
    "\n",
    "  def forward(self, X):\n",
    "    conv_out = tf.nn.conv2d(X, self.w, strides=[1,1,1,1], padding='SAME')\n",
    "    conv_out = tf.nn.bias_add(conv_out , self.b)\n",
    "    p1 , p2 = self.poolsz\n",
    "    pool_out = tf.nn.max_pool(conv_out , ksize=[1,p1,p2,1] , strides=[1,p1,p2,1] , padding='SAME')\n",
    "    return tf.nn.relu(pool_out)"
   ]
  },
  {
   "cell_type": "code",
   "execution_count": null,
   "metadata": {
    "id": "Tl1GeMc-McU_"
   },
   "outputs": [],
   "source": [
    "class CNN(object):\n",
    "  def __init__(self, convpool_layer_sizes, hidden_layer_sizes):\n",
    "    self.convpool_layer_sizes = convpool_layer_sizes\n",
    "    self.hidden_layer_sizes = hidden_layer_sizes\n",
    "\n",
    "  def fit(self, X, Y, Xvalid, Yvalid, lr=1e-2, mu=0.9, reg=1e-3, decay=0.99999, eps=1e-10, batch_sz=30, epochs=5, show_fig=True):\n",
    "    lr = np.float32(lr)\n",
    "    mu = np.float32(mu)\n",
    "    reg = np.float32(reg)\n",
    "    decay = np.float32(decay)\n",
    "    eps = np.float32(eps)\n",
    "    k = len(set(Y))\n",
    "\n",
    "    X,Y = shuffle(X,Y)\n",
    "    X = X.astype(np.float32)\n",
    "    Y = y2indicator(Y).astype(np.float32)\n",
    "    Yvalid = y2indicator(Yvalid).astype(np.float32)\n",
    "    Yvalid_flat = np.argmax(Yvalid , axis=1)\n",
    "\n",
    "    N,width,hight,c = X.shape\n",
    "    mi = c\n",
    "    outw = width\n",
    "    outh = hight\n",
    "    self.convpool_layers = []\n",
    "\n",
    "    for mo, fw, fh in self.convpool_layer_sizes:\n",
    "      layer = ConvPoolLayer(mi, mo, fw, fh)\n",
    "      self.convpool_layers.append(layer)\n",
    "      outw = outw // 2\n",
    "      outh = outh // 2\n",
    "      mi = mo\n",
    "\n",
    "    self.hidden_layers =[]\n",
    "    M1 = self.convpool_layer_sizes[-1][0]*outw*outh\n",
    "    count = 0\n",
    "\n",
    "    for M2 in self.hidden_layer_sizes:\n",
    "      h = HiddenLayer(M1, M2, count)\n",
    "      self.hidden_layers.append(h)\n",
    "      M1 = M2\n",
    "      count += 1\n",
    "\n",
    "    w,b = init_weight_and_bias(M1, k)\n",
    "    self.w = tf.Variable(w, 'w_logreg')\n",
    "    self.b = tf.Variable(b, 'b_logreg')\n",
    "\n",
    "    self.params = [self.w, self.b]\n",
    "    for h in self.convpool_layers:\n",
    "      self.params += h.params\n",
    "    for h in self.hidden_layers:\n",
    "      self.params += h.params\n",
    "        \n",
    "    tfx = tf.placeholder(tf.float32 , shape=(None, width, hight, c), name='X')\n",
    "    tfy = tf.placeholder(tf.float32, shape=(None, k), name='Y')\n",
    "\n",
    "    act = self.forward(tfx)\n",
    "\n",
    "    rcost = reg*sum([tf.nn.l2_loss(p) for p in self.params])\n",
    "    cost = tf.reduce_mean(tf.nn.softmax_cross_entropy_with_logits(logits=act, labels=tfy)) + rcost\n",
    "    prediction = self.predict(tfx)\n",
    "\n",
    "    train_op = tf.train.RMSPropOptimizer(lr, decay=decay , momentum=mu).minimize(cost)\n",
    "    n_batches = N // batch_sz\n",
    "\n",
    "    costs = []\n",
    "    errors = []\n",
    "    init = tf.global_variables_initializer()\n",
    "        \n",
    "    with tf.Session() as session:\n",
    "      session.run(init)\n",
    "      for i in range(epochs):\n",
    "        X, Y = shuffle(X, Y)\n",
    "        for j in range(n_batches):\n",
    "          Xbatch = X[j*batch_sz:(j*batch_sz+batch_sz)]\n",
    "          Ybatch = Y[j*batch_sz:(j*batch_sz+batch_sz)]\n",
    "\n",
    "          session.run(train_op, feed_dict={tfx: Xbatch, tfy: Ybatch})\n",
    "\n",
    "          if j % 20 == 0:\n",
    "            c = session.run(cost, feed_dict={tfx: Xvalid, tfy: Yvalid})\n",
    "            costs.append(c)\n",
    "\n",
    "            p = session.run(prediction, feed_dict={tfx: Xvalid, tfy: Yvalid})\n",
    "            e = error_rate(Yvalid_flat, p)\n",
    "            errors.append(e)\n",
    "            print(\"i:\", i, \"j:\", j, \"nb:\", n_batches, \"cost:\", c, \"error rate:\", e)\n",
    "\n",
    "    if show_fig:\n",
    "      fig , axes = plt.subplots(1,2,figsize=(12,4))\n",
    "      axes[0].plot(costs, color='red')\n",
    "      axes[0].set_title('Costs')\n",
    "      axes[1].plot(errors, color='blue')\n",
    "      axes[1].set_title('Error')\n",
    "\n",
    "  def forward(self, X):\n",
    "    Z = X\n",
    "    \n",
    "    for c in self.convpool_layers:\n",
    "      Z = c.forward(Z)\n",
    "\n",
    "    Z_shape = Z.get_shape().as_list()\n",
    "    Z = tf.reshape(Z , [-1,np.prod(Z_shape[1:])])\n",
    "\n",
    "    \n",
    "    for h in self.hidden_layers:\n",
    "      z = h.forward(Z)\n",
    "\n",
    "    return tf.matmul(Z, self.w) + self.b\n",
    "\n",
    "  def predict(self, X):\n",
    "    py = self.forward(X)\n",
    "    return tf.argmax(py, 1)\n",
    "\n",
    "  def forw(self, X):\n",
    "    Z = X\n",
    "    N,width,hight,c = X.shape\n",
    "    mi = c\n",
    "    outw = width\n",
    "    outh = hight\n",
    "    self.convpool_layers = []\n",
    "\n",
    "    for mo, fw, fh in self.convpool_layer_sizes:\n",
    "      layer = ConvPoolLayer(mi, mo, fw, fh)\n",
    "      self.convpool_layers.append(layer)\n",
    "      outw = outw // 2\n",
    "      outh = outh // 2\n",
    "      mi = mo\n",
    "\n",
    "    for c in self.convpool_layers:\n",
    "      Z = c.forward(Z)\n",
    "\n",
    "    Z_shape = Z.get_shape().as_list()\n",
    "    Z = tf.reshape(Z , [-1,np.prod(Z_shape[1:])])\n",
    "\n",
    "    self.hidden_layers =[]\n",
    "    M1 = self.convpool_layer_sizes[-1][0]*outw*outh\n",
    "    count = 0\n",
    "\n",
    "    for M2 in self.hidden_layer_sizes:\n",
    "      h = HiddenLayer(M1, M2, count)\n",
    "      self.hidden_layers.append(h)\n",
    "      M1 = M2\n",
    "      count += 1\n",
    "\n",
    "    w,b = init_weight_and_bias(M1, 7)\n",
    "    self.w = tf.Variable(w, 'w_logreg')\n",
    "    self.b = tf.Variable(b, 'b_logreg')\n",
    "\n",
    "    for h in self.hidden_layers:\n",
    "      z = h.forward(Z)\n",
    "\n",
    "    return tf.matmul(Z, self.w) + self.b\n",
    "\n",
    "  def pred(self,X):\n",
    "    X = X.astype(np.float32)\n",
    "    y = self.forw(X)\n",
    "    return tf.argmax(y,1)\n"
   ]
  },
  {
   "cell_type": "code",
   "execution_count": null,
   "metadata": {
    "id": "q5kido0vScpy"
   },
   "outputs": [],
   "source": [
    "def main():\n",
    "  Xtrain , Ytrain , Xvalid , Yvalid = getImageData()\n",
    "  #Xtrain = Xtrain.transpose((0,2,3,1))\n",
    "  #Xvalid = Xvalid.transpose((0,2,3,1))\n",
    "\n",
    "  model = CNN(convpool_layer_sizes=[(20,5,5), (20,5,5)], hidden_layer_sizes=[2880,2880])\n",
    "\n",
    "  model.fit(Xtrain, Ytrain, Xvalid, Yvalid)"
   ]
  },
  {
   "cell_type": "code",
   "execution_count": null,
   "metadata": {
    "colab": {
     "base_uri": "https://localhost:8080/",
     "height": 1000
    },
    "id": "OocRagmHeeAk",
    "outputId": "a0a53321-031e-4476-99cb-00087a385512"
   },
   "outputs": [
    {
     "name": "stdout",
     "output_type": "stream",
     "text": [
      "i: 0 j: 0 nb: 1305 cost: 4.847902 error rate: 0.74\n",
      "i: 0 j: 20 nb: 1305 cost: 4.7712274 error rate: 0.739\n",
      "i: 0 j: 40 nb: 1305 cost: 4.804065 error rate: 0.738\n",
      "i: 0 j: 60 nb: 1305 cost: 4.773892 error rate: 0.76\n",
      "i: 0 j: 80 nb: 1305 cost: 4.7495875 error rate: 0.74\n",
      "i: 0 j: 100 nb: 1305 cost: 4.7237124 error rate: 0.739\n",
      "i: 0 j: 120 nb: 1305 cost: 4.724881 error rate: 0.74\n",
      "i: 0 j: 140 nb: 1305 cost: 4.703875 error rate: 0.759\n",
      "i: 0 j: 160 nb: 1305 cost: 4.644496 error rate: 0.69\n",
      "i: 0 j: 180 nb: 1305 cost: 4.673571 error rate: 0.699\n",
      "i: 0 j: 200 nb: 1305 cost: 4.612228 error rate: 0.746\n",
      "i: 0 j: 220 nb: 1305 cost: 4.6536474 error rate: 0.734\n",
      "i: 0 j: 240 nb: 1305 cost: 4.5987983 error rate: 0.707\n",
      "i: 0 j: 260 nb: 1305 cost: 4.5262833 error rate: 0.661\n",
      "i: 0 j: 280 nb: 1305 cost: 4.5166707 error rate: 0.676\n",
      "i: 0 j: 300 nb: 1305 cost: 4.5538816 error rate: 0.697\n",
      "i: 0 j: 320 nb: 1305 cost: 4.529976 error rate: 0.713\n",
      "i: 0 j: 340 nb: 1305 cost: 4.4578733 error rate: 0.662\n",
      "i: 0 j: 360 nb: 1305 cost: 4.4097967 error rate: 0.645\n",
      "i: 0 j: 380 nb: 1305 cost: 4.407043 error rate: 0.647\n",
      "i: 0 j: 400 nb: 1305 cost: 4.394146 error rate: 0.638\n",
      "i: 0 j: 420 nb: 1305 cost: 4.4273806 error rate: 0.673\n",
      "i: 0 j: 440 nb: 1305 cost: 4.3538876 error rate: 0.652\n",
      "i: 0 j: 460 nb: 1305 cost: 4.323703 error rate: 0.628\n",
      "i: 0 j: 480 nb: 1305 cost: 4.322507 error rate: 0.626\n",
      "i: 0 j: 500 nb: 1305 cost: 4.3125176 error rate: 0.629\n",
      "i: 0 j: 520 nb: 1305 cost: 4.3410397 error rate: 0.647\n",
      "i: 0 j: 540 nb: 1305 cost: 4.3424225 error rate: 0.653\n",
      "i: 0 j: 560 nb: 1305 cost: 4.28644 error rate: 0.639\n",
      "i: 0 j: 580 nb: 1305 cost: 4.247033 error rate: 0.62\n",
      "i: 0 j: 600 nb: 1305 cost: 4.309956 error rate: 0.655\n",
      "i: 0 j: 620 nb: 1305 cost: 4.2163067 error rate: 0.615\n",
      "i: 0 j: 640 nb: 1305 cost: 4.2210345 error rate: 0.641\n",
      "i: 0 j: 660 nb: 1305 cost: 4.1738753 error rate: 0.619\n",
      "i: 0 j: 680 nb: 1305 cost: 4.2240133 error rate: 0.639\n",
      "i: 0 j: 700 nb: 1305 cost: 4.182884 error rate: 0.621\n",
      "i: 0 j: 720 nb: 1305 cost: 4.1305404 error rate: 0.61\n",
      "i: 0 j: 740 nb: 1305 cost: 4.1604843 error rate: 0.631\n",
      "i: 0 j: 760 nb: 1305 cost: 4.129584 error rate: 0.622\n",
      "i: 0 j: 780 nb: 1305 cost: 4.125738 error rate: 0.617\n",
      "i: 0 j: 800 nb: 1305 cost: 4.1489577 error rate: 0.644\n",
      "i: 0 j: 820 nb: 1305 cost: 4.131048 error rate: 0.643\n",
      "i: 0 j: 840 nb: 1305 cost: 4.0621157 error rate: 0.615\n",
      "i: 0 j: 860 nb: 1305 cost: 4.0790496 error rate: 0.617\n",
      "i: 0 j: 880 nb: 1305 cost: 4.0818806 error rate: 0.626\n",
      "i: 0 j: 900 nb: 1305 cost: 4.0730243 error rate: 0.631\n",
      "i: 0 j: 920 nb: 1305 cost: 4.0783687 error rate: 0.643\n",
      "i: 0 j: 940 nb: 1305 cost: 4.014791 error rate: 0.616\n",
      "i: 0 j: 960 nb: 1305 cost: 4.0645933 error rate: 0.642\n",
      "i: 0 j: 980 nb: 1305 cost: 4.0034018 error rate: 0.615\n",
      "i: 0 j: 1000 nb: 1305 cost: 4.0133233 error rate: 0.603\n",
      "i: 0 j: 1020 nb: 1305 cost: 4.0322175 error rate: 0.629\n",
      "i: 0 j: 1040 nb: 1305 cost: 3.9698858 error rate: 0.614\n",
      "i: 0 j: 1060 nb: 1305 cost: 3.9634361 error rate: 0.623\n",
      "i: 0 j: 1080 nb: 1305 cost: 3.9545374 error rate: 0.601\n",
      "i: 0 j: 1100 nb: 1305 cost: 3.9491599 error rate: 0.621\n",
      "i: 0 j: 1120 nb: 1305 cost: 3.9479277 error rate: 0.619\n",
      "i: 0 j: 1140 nb: 1305 cost: 3.9395132 error rate: 0.623\n",
      "i: 0 j: 1160 nb: 1305 cost: 3.8824162 error rate: 0.604\n",
      "i: 0 j: 1180 nb: 1305 cost: 3.8932123 error rate: 0.611\n",
      "i: 0 j: 1200 nb: 1305 cost: 3.8951974 error rate: 0.615\n",
      "i: 0 j: 1220 nb: 1305 cost: 3.9255185 error rate: 0.628\n",
      "i: 0 j: 1240 nb: 1305 cost: 3.8699284 error rate: 0.582\n",
      "i: 0 j: 1260 nb: 1305 cost: 3.8688207 error rate: 0.606\n",
      "i: 0 j: 1280 nb: 1305 cost: 3.8707883 error rate: 0.595\n",
      "i: 0 j: 1300 nb: 1305 cost: 3.8792455 error rate: 0.621\n",
      "i: 1 j: 0 nb: 1305 cost: 3.8416178 error rate: 0.596\n",
      "i: 1 j: 20 nb: 1305 cost: 3.8258724 error rate: 0.608\n",
      "i: 1 j: 40 nb: 1305 cost: 3.824915 error rate: 0.593\n",
      "i: 1 j: 60 nb: 1305 cost: 3.8256078 error rate: 0.615\n",
      "i: 1 j: 80 nb: 1305 cost: 3.7694297 error rate: 0.584\n",
      "i: 1 j: 100 nb: 1305 cost: 3.7850845 error rate: 0.593\n",
      "i: 1 j: 120 nb: 1305 cost: 3.7763329 error rate: 0.609\n",
      "i: 1 j: 140 nb: 1305 cost: 3.7969189 error rate: 0.621\n",
      "i: 1 j: 160 nb: 1305 cost: 3.780859 error rate: 0.607\n",
      "i: 1 j: 180 nb: 1305 cost: 3.7397985 error rate: 0.586\n",
      "i: 1 j: 200 nb: 1305 cost: 3.7443633 error rate: 0.587\n",
      "i: 1 j: 220 nb: 1305 cost: 3.6934972 error rate: 0.575\n",
      "i: 1 j: 240 nb: 1305 cost: 3.8247817 error rate: 0.626\n",
      "i: 1 j: 260 nb: 1305 cost: 3.6785212 error rate: 0.577\n",
      "i: 1 j: 280 nb: 1305 cost: 3.706312 error rate: 0.588\n",
      "i: 1 j: 300 nb: 1305 cost: 3.709497 error rate: 0.594\n",
      "i: 1 j: 320 nb: 1305 cost: 3.664429 error rate: 0.588\n",
      "i: 1 j: 340 nb: 1305 cost: 3.6482112 error rate: 0.59\n",
      "i: 1 j: 360 nb: 1305 cost: 3.6941738 error rate: 0.595\n",
      "i: 1 j: 380 nb: 1305 cost: 3.6358783 error rate: 0.574\n",
      "i: 1 j: 400 nb: 1305 cost: 3.640778 error rate: 0.589\n",
      "i: 1 j: 420 nb: 1305 cost: 3.656119 error rate: 0.606\n",
      "i: 1 j: 440 nb: 1305 cost: 3.5953252 error rate: 0.571\n",
      "i: 1 j: 460 nb: 1305 cost: 3.648345 error rate: 0.611\n",
      "i: 1 j: 480 nb: 1305 cost: 3.660443 error rate: 0.622\n",
      "i: 1 j: 500 nb: 1305 cost: 3.6253624 error rate: 0.608\n",
      "i: 1 j: 520 nb: 1305 cost: 3.5620704 error rate: 0.588\n",
      "i: 1 j: 540 nb: 1305 cost: 3.577959 error rate: 0.612\n",
      "i: 1 j: 560 nb: 1305 cost: 3.5854554 error rate: 0.592\n",
      "i: 1 j: 580 nb: 1305 cost: 3.579094 error rate: 0.594\n",
      "i: 1 j: 600 nb: 1305 cost: 3.518292 error rate: 0.573\n",
      "i: 1 j: 620 nb: 1305 cost: 3.5521169 error rate: 0.602\n",
      "i: 1 j: 640 nb: 1305 cost: 3.5346541 error rate: 0.588\n",
      "i: 1 j: 660 nb: 1305 cost: 3.5120592 error rate: 0.549\n",
      "i: 1 j: 680 nb: 1305 cost: 3.510209 error rate: 0.58\n",
      "i: 1 j: 700 nb: 1305 cost: 3.4908767 error rate: 0.56\n",
      "i: 1 j: 720 nb: 1305 cost: 3.5063953 error rate: 0.58\n",
      "i: 1 j: 740 nb: 1305 cost: 3.4468062 error rate: 0.563\n",
      "i: 1 j: 760 nb: 1305 cost: 3.4400477 error rate: 0.563\n",
      "i: 1 j: 780 nb: 1305 cost: 3.4298964 error rate: 0.576\n",
      "i: 1 j: 800 nb: 1305 cost: 3.4869592 error rate: 0.594\n",
      "i: 1 j: 820 nb: 1305 cost: 3.4946737 error rate: 0.594\n",
      "i: 1 j: 840 nb: 1305 cost: 3.4087021 error rate: 0.559\n",
      "i: 1 j: 860 nb: 1305 cost: 3.4217834 error rate: 0.569\n",
      "i: 1 j: 880 nb: 1305 cost: 3.4256458 error rate: 0.569\n",
      "i: 1 j: 900 nb: 1305 cost: 3.4146771 error rate: 0.578\n",
      "i: 1 j: 920 nb: 1305 cost: 3.3873634 error rate: 0.572\n",
      "i: 1 j: 940 nb: 1305 cost: 3.4244943 error rate: 0.585\n",
      "i: 1 j: 960 nb: 1305 cost: 3.3942027 error rate: 0.57\n",
      "i: 1 j: 980 nb: 1305 cost: 3.3825927 error rate: 0.582\n",
      "i: 1 j: 1000 nb: 1305 cost: 3.3867545 error rate: 0.589\n",
      "i: 1 j: 1020 nb: 1305 cost: 3.3510325 error rate: 0.581\n",
      "i: 1 j: 1040 nb: 1305 cost: 3.361329 error rate: 0.564\n",
      "i: 1 j: 1060 nb: 1305 cost: 3.3884397 error rate: 0.595\n",
      "i: 1 j: 1080 nb: 1305 cost: 3.3802915 error rate: 0.58\n",
      "i: 1 j: 1100 nb: 1305 cost: 3.3498895 error rate: 0.582\n",
      "i: 1 j: 1120 nb: 1305 cost: 3.359296 error rate: 0.59\n",
      "i: 1 j: 1140 nb: 1305 cost: 3.3295355 error rate: 0.584\n",
      "i: 1 j: 1160 nb: 1305 cost: 3.3207526 error rate: 0.574\n",
      "i: 1 j: 1180 nb: 1305 cost: 3.3052597 error rate: 0.568\n",
      "i: 1 j: 1200 nb: 1305 cost: 3.3270674 error rate: 0.575\n",
      "i: 1 j: 1220 nb: 1305 cost: 3.303714 error rate: 0.572\n",
      "i: 1 j: 1240 nb: 1305 cost: 3.2879398 error rate: 0.56\n",
      "i: 1 j: 1260 nb: 1305 cost: 3.3166924 error rate: 0.591\n",
      "i: 1 j: 1280 nb: 1305 cost: 3.2624898 error rate: 0.55\n",
      "i: 1 j: 1300 nb: 1305 cost: 3.2719295 error rate: 0.573\n",
      "i: 2 j: 0 nb: 1305 cost: 3.244858 error rate: 0.537\n",
      "i: 2 j: 20 nb: 1305 cost: 3.3129735 error rate: 0.586\n",
      "i: 2 j: 40 nb: 1305 cost: 3.3512845 error rate: 0.58\n",
      "i: 2 j: 60 nb: 1305 cost: 3.2411246 error rate: 0.587\n",
      "i: 2 j: 80 nb: 1305 cost: 3.2134817 error rate: 0.566\n",
      "i: 2 j: 100 nb: 1305 cost: 3.2353473 error rate: 0.569\n",
      "i: 2 j: 120 nb: 1305 cost: 3.2693758 error rate: 0.561\n",
      "i: 2 j: 140 nb: 1305 cost: 3.1928852 error rate: 0.549\n",
      "i: 2 j: 160 nb: 1305 cost: 3.21797 error rate: 0.56\n",
      "i: 2 j: 180 nb: 1305 cost: 3.2175722 error rate: 0.553\n",
      "i: 2 j: 200 nb: 1305 cost: 3.2383833 error rate: 0.575\n",
      "i: 2 j: 220 nb: 1305 cost: 3.2078314 error rate: 0.561\n",
      "i: 2 j: 240 nb: 1305 cost: 3.1963763 error rate: 0.545\n",
      "i: 2 j: 260 nb: 1305 cost: 3.2324314 error rate: 0.573\n",
      "i: 2 j: 280 nb: 1305 cost: 3.1722598 error rate: 0.547\n",
      "i: 2 j: 300 nb: 1305 cost: 3.2106042 error rate: 0.569\n",
      "i: 2 j: 320 nb: 1305 cost: 3.1774192 error rate: 0.567\n",
      "i: 2 j: 340 nb: 1305 cost: 3.1368618 error rate: 0.571\n",
      "i: 2 j: 360 nb: 1305 cost: 3.108344 error rate: 0.538\n",
      "i: 2 j: 380 nb: 1305 cost: 3.112625 error rate: 0.551\n",
      "i: 2 j: 400 nb: 1305 cost: 3.1251645 error rate: 0.554\n",
      "i: 2 j: 420 nb: 1305 cost: 3.1428108 error rate: 0.571\n",
      "i: 2 j: 440 nb: 1305 cost: 3.0895762 error rate: 0.54\n",
      "i: 2 j: 460 nb: 1305 cost: 3.1051068 error rate: 0.558\n",
      "i: 2 j: 480 nb: 1305 cost: 3.1142647 error rate: 0.57\n",
      "i: 2 j: 500 nb: 1305 cost: 3.0852742 error rate: 0.541\n",
      "i: 2 j: 520 nb: 1305 cost: 3.0822768 error rate: 0.569\n",
      "i: 2 j: 540 nb: 1305 cost: 3.068979 error rate: 0.549\n",
      "i: 2 j: 560 nb: 1305 cost: 3.1099887 error rate: 0.58\n",
      "i: 2 j: 580 nb: 1305 cost: 3.0247574 error rate: 0.547\n",
      "i: 2 j: 600 nb: 1305 cost: 3.0096455 error rate: 0.546\n",
      "i: 2 j: 620 nb: 1305 cost: 3.032748 error rate: 0.556\n",
      "i: 2 j: 640 nb: 1305 cost: 2.9946394 error rate: 0.539\n",
      "i: 2 j: 660 nb: 1305 cost: 3.0198798 error rate: 0.57\n",
      "i: 2 j: 680 nb: 1305 cost: 2.9643545 error rate: 0.535\n",
      "i: 2 j: 700 nb: 1305 cost: 3.0325885 error rate: 0.574\n",
      "i: 2 j: 720 nb: 1305 cost: 2.9912338 error rate: 0.544\n",
      "i: 2 j: 740 nb: 1305 cost: 2.9598043 error rate: 0.556\n",
      "i: 2 j: 760 nb: 1305 cost: 3.023078 error rate: 0.569\n",
      "i: 2 j: 780 nb: 1305 cost: 2.9730601 error rate: 0.543\n",
      "i: 2 j: 800 nb: 1305 cost: 2.9595215 error rate: 0.559\n",
      "i: 2 j: 820 nb: 1305 cost: 2.9922714 error rate: 0.576\n",
      "i: 2 j: 840 nb: 1305 cost: 2.9429018 error rate: 0.551\n",
      "i: 2 j: 860 nb: 1305 cost: 2.9437308 error rate: 0.549\n",
      "i: 2 j: 880 nb: 1305 cost: 3.0014539 error rate: 0.567\n",
      "i: 2 j: 900 nb: 1305 cost: 2.9515457 error rate: 0.561\n",
      "i: 2 j: 920 nb: 1305 cost: 2.9959028 error rate: 0.552\n",
      "i: 2 j: 940 nb: 1305 cost: 2.9448018 error rate: 0.554\n",
      "i: 2 j: 960 nb: 1305 cost: 2.934874 error rate: 0.554\n",
      "i: 2 j: 980 nb: 1305 cost: 2.9141397 error rate: 0.548\n",
      "i: 2 j: 1000 nb: 1305 cost: 2.9345808 error rate: 0.569\n",
      "i: 2 j: 1020 nb: 1305 cost: 2.9268265 error rate: 0.554\n",
      "i: 2 j: 1040 nb: 1305 cost: 2.9177432 error rate: 0.553\n",
      "i: 2 j: 1060 nb: 1305 cost: 2.92248 error rate: 0.553\n",
      "i: 2 j: 1080 nb: 1305 cost: 2.91287 error rate: 0.563\n",
      "i: 2 j: 1100 nb: 1305 cost: 2.869539 error rate: 0.527\n",
      "i: 2 j: 1120 nb: 1305 cost: 2.8654628 error rate: 0.55\n",
      "i: 2 j: 1140 nb: 1305 cost: 2.8607526 error rate: 0.54\n",
      "i: 2 j: 1160 nb: 1305 cost: 2.8721333 error rate: 0.562\n",
      "i: 2 j: 1180 nb: 1305 cost: 2.8956325 error rate: 0.559\n",
      "i: 2 j: 1200 nb: 1305 cost: 2.8807502 error rate: 0.549\n",
      "i: 2 j: 1220 nb: 1305 cost: 2.8262858 error rate: 0.537\n",
      "i: 2 j: 1240 nb: 1305 cost: 2.8028536 error rate: 0.537\n",
      "i: 2 j: 1260 nb: 1305 cost: 2.8551295 error rate: 0.532\n",
      "i: 2 j: 1280 nb: 1305 cost: 2.8032324 error rate: 0.532\n",
      "i: 2 j: 1300 nb: 1305 cost: 2.8338478 error rate: 0.544\n",
      "i: 3 j: 0 nb: 1305 cost: 2.8205714 error rate: 0.553\n",
      "i: 3 j: 20 nb: 1305 cost: 2.8058207 error rate: 0.524\n",
      "i: 3 j: 40 nb: 1305 cost: 2.8206234 error rate: 0.531\n",
      "i: 3 j: 60 nb: 1305 cost: 2.837142 error rate: 0.562\n",
      "i: 3 j: 80 nb: 1305 cost: 2.8128064 error rate: 0.537\n",
      "i: 3 j: 100 nb: 1305 cost: 2.8039618 error rate: 0.542\n",
      "i: 3 j: 120 nb: 1305 cost: 2.7838264 error rate: 0.526\n",
      "i: 3 j: 140 nb: 1305 cost: 2.7977989 error rate: 0.539\n",
      "i: 3 j: 160 nb: 1305 cost: 2.7965744 error rate: 0.544\n",
      "i: 3 j: 180 nb: 1305 cost: 2.7759924 error rate: 0.554\n",
      "i: 3 j: 200 nb: 1305 cost: 2.8461876 error rate: 0.566\n",
      "i: 3 j: 220 nb: 1305 cost: 2.7902064 error rate: 0.547\n",
      "i: 3 j: 240 nb: 1305 cost: 2.7950075 error rate: 0.545\n",
      "i: 3 j: 260 nb: 1305 cost: 2.8088937 error rate: 0.577\n",
      "i: 3 j: 280 nb: 1305 cost: 2.7825775 error rate: 0.547\n",
      "i: 3 j: 300 nb: 1305 cost: 2.7174017 error rate: 0.555\n",
      "i: 3 j: 320 nb: 1305 cost: 2.7660472 error rate: 0.555\n",
      "i: 3 j: 340 nb: 1305 cost: 2.787064 error rate: 0.549\n",
      "i: 3 j: 360 nb: 1305 cost: 2.7828999 error rate: 0.574\n",
      "i: 3 j: 380 nb: 1305 cost: 2.7564611 error rate: 0.553\n",
      "i: 3 j: 400 nb: 1305 cost: 2.7414942 error rate: 0.559\n",
      "i: 3 j: 420 nb: 1305 cost: 2.7240498 error rate: 0.543\n",
      "i: 3 j: 440 nb: 1305 cost: 2.7229767 error rate: 0.545\n",
      "i: 3 j: 460 nb: 1305 cost: 2.6904778 error rate: 0.534\n",
      "i: 3 j: 480 nb: 1305 cost: 2.6975496 error rate: 0.55\n",
      "i: 3 j: 500 nb: 1305 cost: 2.684667 error rate: 0.553\n",
      "i: 3 j: 520 nb: 1305 cost: 2.6970024 error rate: 0.552\n",
      "i: 3 j: 540 nb: 1305 cost: 2.6815856 error rate: 0.53\n",
      "i: 3 j: 560 nb: 1305 cost: 2.6569862 error rate: 0.525\n",
      "i: 3 j: 580 nb: 1305 cost: 2.6438549 error rate: 0.514\n",
      "i: 3 j: 600 nb: 1305 cost: 2.7370512 error rate: 0.541\n",
      "i: 3 j: 620 nb: 1305 cost: 2.6888342 error rate: 0.53\n",
      "i: 3 j: 640 nb: 1305 cost: 2.7428665 error rate: 0.561\n",
      "i: 3 j: 660 nb: 1305 cost: 2.6524591 error rate: 0.528\n",
      "i: 3 j: 680 nb: 1305 cost: 2.650261 error rate: 0.539\n",
      "i: 3 j: 700 nb: 1305 cost: 2.6205614 error rate: 0.529\n",
      "i: 3 j: 720 nb: 1305 cost: 2.6301613 error rate: 0.522\n",
      "i: 3 j: 740 nb: 1305 cost: 2.6531413 error rate: 0.548\n",
      "i: 3 j: 760 nb: 1305 cost: 2.6146793 error rate: 0.533\n",
      "i: 3 j: 780 nb: 1305 cost: 2.6355057 error rate: 0.531\n",
      "i: 3 j: 800 nb: 1305 cost: 2.6286807 error rate: 0.539\n",
      "i: 3 j: 820 nb: 1305 cost: 2.5781732 error rate: 0.513\n",
      "i: 3 j: 840 nb: 1305 cost: 2.6170223 error rate: 0.54\n",
      "i: 3 j: 860 nb: 1305 cost: 2.597383 error rate: 0.53\n",
      "i: 3 j: 880 nb: 1305 cost: 2.6027765 error rate: 0.55\n",
      "i: 3 j: 900 nb: 1305 cost: 2.5898938 error rate: 0.549\n",
      "i: 3 j: 920 nb: 1305 cost: 2.5549617 error rate: 0.531\n",
      "i: 3 j: 940 nb: 1305 cost: 2.5848145 error rate: 0.537\n",
      "i: 3 j: 960 nb: 1305 cost: 2.5609057 error rate: 0.525\n",
      "i: 3 j: 980 nb: 1305 cost: 2.592012 error rate: 0.542\n",
      "i: 3 j: 1000 nb: 1305 cost: 2.5794654 error rate: 0.542\n",
      "i: 3 j: 1020 nb: 1305 cost: 2.609499 error rate: 0.526\n",
      "i: 3 j: 1040 nb: 1305 cost: 2.5901122 error rate: 0.534\n",
      "i: 3 j: 1060 nb: 1305 cost: 2.5637283 error rate: 0.532\n",
      "i: 3 j: 1080 nb: 1305 cost: 2.6110973 error rate: 0.565\n",
      "i: 3 j: 1100 nb: 1305 cost: 2.590353 error rate: 0.55\n",
      "i: 3 j: 1120 nb: 1305 cost: 2.5327477 error rate: 0.532\n",
      "i: 3 j: 1140 nb: 1305 cost: 2.5223832 error rate: 0.544\n",
      "i: 3 j: 1160 nb: 1305 cost: 2.6060433 error rate: 0.548\n",
      "i: 3 j: 1180 nb: 1305 cost: 2.5484915 error rate: 0.538\n",
      "i: 3 j: 1200 nb: 1305 cost: 2.5374553 error rate: 0.529\n",
      "i: 3 j: 1220 nb: 1305 cost: 2.518579 error rate: 0.519\n",
      "i: 3 j: 1240 nb: 1305 cost: 2.5012393 error rate: 0.51\n",
      "i: 3 j: 1260 nb: 1305 cost: 2.5341148 error rate: 0.525\n",
      "i: 3 j: 1280 nb: 1305 cost: 2.501818 error rate: 0.522\n",
      "i: 3 j: 1300 nb: 1305 cost: 2.4988122 error rate: 0.535\n",
      "i: 4 j: 0 nb: 1305 cost: 2.505135 error rate: 0.536\n",
      "i: 4 j: 20 nb: 1305 cost: 2.5135856 error rate: 0.525\n",
      "i: 4 j: 40 nb: 1305 cost: 2.5010576 error rate: 0.531\n",
      "i: 4 j: 60 nb: 1305 cost: 2.4739342 error rate: 0.523\n",
      "i: 4 j: 80 nb: 1305 cost: 2.4991856 error rate: 0.524\n",
      "i: 4 j: 100 nb: 1305 cost: 2.4783602 error rate: 0.52\n",
      "i: 4 j: 120 nb: 1305 cost: 2.4930446 error rate: 0.517\n",
      "i: 4 j: 140 nb: 1305 cost: 2.5390508 error rate: 0.547\n",
      "i: 4 j: 160 nb: 1305 cost: 2.482892 error rate: 0.536\n",
      "i: 4 j: 180 nb: 1305 cost: 2.465015 error rate: 0.525\n",
      "i: 4 j: 200 nb: 1305 cost: 2.461115 error rate: 0.525\n",
      "i: 4 j: 220 nb: 1305 cost: 2.4772043 error rate: 0.529\n",
      "i: 4 j: 240 nb: 1305 cost: 2.4928591 error rate: 0.547\n",
      "i: 4 j: 260 nb: 1305 cost: 2.442155 error rate: 0.524\n",
      "i: 4 j: 280 nb: 1305 cost: 2.4447153 error rate: 0.538\n",
      "i: 4 j: 300 nb: 1305 cost: 2.4504147 error rate: 0.529\n",
      "i: 4 j: 320 nb: 1305 cost: 2.4239562 error rate: 0.521\n",
      "i: 4 j: 340 nb: 1305 cost: 2.4616246 error rate: 0.532\n",
      "i: 4 j: 360 nb: 1305 cost: 2.4310095 error rate: 0.536\n",
      "i: 4 j: 380 nb: 1305 cost: 2.4279265 error rate: 0.519\n",
      "i: 4 j: 400 nb: 1305 cost: 2.431312 error rate: 0.53\n",
      "i: 4 j: 420 nb: 1305 cost: 2.466021 error rate: 0.537\n",
      "i: 4 j: 440 nb: 1305 cost: 2.4412713 error rate: 0.535\n",
      "i: 4 j: 460 nb: 1305 cost: 2.4267845 error rate: 0.533\n",
      "i: 4 j: 480 nb: 1305 cost: 2.4549065 error rate: 0.538\n",
      "i: 4 j: 500 nb: 1305 cost: 2.4189155 error rate: 0.551\n",
      "i: 4 j: 520 nb: 1305 cost: 2.4315624 error rate: 0.528\n",
      "i: 4 j: 540 nb: 1305 cost: 2.4292388 error rate: 0.542\n",
      "i: 4 j: 560 nb: 1305 cost: 2.4628654 error rate: 0.545\n",
      "i: 4 j: 580 nb: 1305 cost: 2.3894255 error rate: 0.528\n",
      "i: 4 j: 600 nb: 1305 cost: 2.418611 error rate: 0.552\n",
      "i: 4 j: 620 nb: 1305 cost: 2.4030094 error rate: 0.534\n",
      "i: 4 j: 640 nb: 1305 cost: 2.3851116 error rate: 0.531\n",
      "i: 4 j: 660 nb: 1305 cost: 2.3845377 error rate: 0.532\n",
      "i: 4 j: 680 nb: 1305 cost: 2.379452 error rate: 0.535\n",
      "i: 4 j: 700 nb: 1305 cost: 2.3583212 error rate: 0.521\n",
      "i: 4 j: 720 nb: 1305 cost: 2.3654647 error rate: 0.508\n",
      "i: 4 j: 740 nb: 1305 cost: 2.350472 error rate: 0.505\n",
      "i: 4 j: 760 nb: 1305 cost: 2.374851 error rate: 0.531\n",
      "i: 4 j: 780 nb: 1305 cost: 2.4008179 error rate: 0.539\n",
      "i: 4 j: 800 nb: 1305 cost: 2.357435 error rate: 0.522\n",
      "i: 4 j: 820 nb: 1305 cost: 2.3288608 error rate: 0.514\n",
      "i: 4 j: 840 nb: 1305 cost: 2.352756 error rate: 0.523\n",
      "i: 4 j: 860 nb: 1305 cost: 2.3400643 error rate: 0.537\n",
      "i: 4 j: 880 nb: 1305 cost: 2.3374937 error rate: 0.539\n",
      "i: 4 j: 900 nb: 1305 cost: 2.3561733 error rate: 0.533\n",
      "i: 4 j: 920 nb: 1305 cost: 2.351941 error rate: 0.537\n",
      "i: 4 j: 940 nb: 1305 cost: 2.3266144 error rate: 0.521\n",
      "i: 4 j: 960 nb: 1305 cost: 2.3251605 error rate: 0.541\n",
      "i: 4 j: 980 nb: 1305 cost: 2.3355606 error rate: 0.538\n",
      "i: 4 j: 1000 nb: 1305 cost: 2.2898114 error rate: 0.527\n",
      "i: 4 j: 1020 nb: 1305 cost: 2.3365517 error rate: 0.531\n",
      "i: 4 j: 1040 nb: 1305 cost: 2.3119202 error rate: 0.509\n",
      "i: 4 j: 1060 nb: 1305 cost: 2.3180351 error rate: 0.517\n",
      "i: 4 j: 1080 nb: 1305 cost: 2.3017616 error rate: 0.53\n",
      "i: 4 j: 1100 nb: 1305 cost: 2.3241591 error rate: 0.529\n",
      "i: 4 j: 1120 nb: 1305 cost: 2.2756386 error rate: 0.523\n",
      "i: 4 j: 1140 nb: 1305 cost: 2.3316135 error rate: 0.539\n",
      "i: 4 j: 1160 nb: 1305 cost: 2.3126307 error rate: 0.541\n",
      "i: 4 j: 1180 nb: 1305 cost: 2.3290744 error rate: 0.548\n",
      "i: 4 j: 1200 nb: 1305 cost: 2.3016484 error rate: 0.53\n",
      "i: 4 j: 1220 nb: 1305 cost: 2.342145 error rate: 0.545\n",
      "i: 4 j: 1240 nb: 1305 cost: 2.3458753 error rate: 0.552\n",
      "i: 4 j: 1260 nb: 1305 cost: 2.282715 error rate: 0.526\n",
      "i: 4 j: 1280 nb: 1305 cost: 2.286095 error rate: 0.542\n",
      "i: 4 j: 1300 nb: 1305 cost: 2.2547867 error rate: 0.514\n"
     ]
    },
    {
     "data": {
      "image/png": "[encoded data removed]",
      "text/plain": [
       "<Figure size 864x288 with 2 Axes>"
      ]
     },
     "metadata": {
      "tags": []
     },
     "output_type": "display_data"
    }
   ],
   "source": [
    "if __name__=='__main__':\n",
    "  main()"
   ]
  },
  {
   "cell_type": "code",
   "execution_count": null,
   "metadata": {
    "id": "Xmo0nB4eegr4"
   },
   "outputs": [],
   "source": [
    "Xt , Yt , Xv , Yv = getImageData()"
   ]
  },
  {
   "cell_type": "code",
   "execution_count": null,
   "metadata": {
    "id": "Z1Lt4UK7fOOL"
   },
   "outputs": [],
   "source": [
    "X , Y , xvl , yvl = getData()"
   ]
  },
  {
   "cell_type": "code",
   "execution_count": null,
   "metadata": {
    "colab": {
     "base_uri": "https://localhost:8080/",
     "height": 34
    },
    "id": "R98yWCmylAjN",
    "outputId": "0a6594bf-828d-4497-c4e1-8ef3e89ae3a4"
   },
   "outputs": [
    {
     "data": {
      "text/plain": [
       "(39167, 2304)"
      ]
     },
     "execution_count": 105,
     "metadata": {
      "tags": []
     },
     "output_type": "execute_result"
    }
   ],
   "source": [
    "X.shape"
   ]
  },
  {
   "cell_type": "code",
   "execution_count": null,
   "metadata": {
    "colab": {
     "base_uri": "https://localhost:8080/",
     "height": 34
    },
    "id": "oYMzadjCeW2c",
    "outputId": "99e506b2-5f13-4450-e71f-504641586024"
   },
   "outputs": [
    {
     "data": {
      "text/plain": [
       "(39167,)"
      ]
     },
     "execution_count": 106,
     "metadata": {
      "tags": []
     },
     "output_type": "execute_result"
    }
   ],
   "source": [
    "Y.shape"
   ]
  },
  {
   "cell_type": "code",
   "execution_count": null,
   "metadata": {
    "id": "qtTRdkzWmEtU"
   },
   "outputs": [],
   "source": [
    "img = X[8].reshape(48,48)"
   ]
  },
  {
   "cell_type": "code",
   "execution_count": null,
   "metadata": {
    "id": "I47s05us46r9"
   },
   "outputs": [],
   "source": [
    "lab = ['Anger','Disgust','Fear','Happy','Sad','Surprise','Neutral']"
   ]
  },
  {
   "cell_type": "code",
   "execution_count": null,
   "metadata": {
    "id": "h49fwv3q5SAI"
   },
   "outputs": [],
   "source": []
  },
  {
   "cell_type": "code",
   "execution_count": null,
   "metadata": {
    "colab": {
     "base_uri": "https://localhost:8080/",
     "height": 298
    },
    "id": "iQzbEwoilQc3",
    "outputId": "67c3eddc-41b1-44a2-ff23-519759af0686"
   },
   "outputs": [
    {
     "data": {
      "text/plain": [
       "Text(0.5, 1.0, 'Fear')"
      ]
     },
     "execution_count": 109,
     "metadata": {
      "tags": []
     },
     "output_type": "execute_result"
    },
    {
     "data": {
      "image/png": "[encoded data removed]",
      "text/plain": [
       "<Figure size 432x288 with 1 Axes>"
      ]
     },
     "metadata": {
      "tags": []
     },
     "output_type": "display_data"
    }
   ],
   "source": [
    "plt.imshow(img,cmap='gray')\n",
    "plt.title(lab[Y[8]])"
   ]
  },
  {
   "cell_type": "code",
   "execution_count": null,
   "metadata": {
    "id": "TD9oyp0mlZ7G"
   },
   "outputs": [],
   "source": [
    "image = X[4].reshape(48,48,1)"
   ]
  },
  {
   "cell_type": "code",
   "execution_count": null,
   "metadata": {
    "id": "yDHT66SxmgMx"
   },
   "outputs": [],
   "source": [
    "model = CNN(convpool_layer_sizes=[(20,5,5), (20,5,5)], hidden_layer_sizes=[2880,2880])"
   ]
  },
  {
   "cell_type": "code",
   "execution_count": null,
   "metadata": {
    "id": "Rk7GPfUPpgHG"
   },
   "outputs": [],
   "source": [
    "img = X[8].reshape(-1,48,48,1)"
   ]
  },
  {
   "cell_type": "code",
   "execution_count": null,
   "metadata": {
    "id": "gchqLImftIWy"
   },
   "outputs": [],
   "source": [
    "lab = Y[8]\n"
   ]
  },
  {
   "cell_type": "code",
   "execution_count": null,
   "metadata": {
    "id": "PwbKpDh3tNki"
   },
   "outputs": [],
   "source": [
    "import pickle"
   ]
  },
  {
   "cell_type": "code",
   "execution_count": null,
   "metadata": {
    "id": "1Eu3NXsctiPy"
   },
   "outputs": [],
   "source": [
    "saved_model = pickle.dumps(model)"
   ]
  },
  {
   "cell_type": "code",
   "execution_count": null,
   "metadata": {
    "id": "KwIk448EsyBu"
   },
   "outputs": [],
   "source": [
    "model_from_pickle = pickle.loads(saved_model)"
   ]
  },
  {
   "cell_type": "code",
   "execution_count": null,
   "metadata": {
    "id": "P5Gp9jPdQIh5"
   },
   "outputs": [],
   "source": [
    "pred = model_from_pickle.pred(X[52].reshape(-1,48,48,1))"
   ]
  },
  {
   "cell_type": "code",
   "execution_count": null,
   "metadata": {
    "colab": {
     "base_uri": "https://localhost:8080/",
     "height": 34
    },
    "id": "alHkVkRpQoNT",
    "outputId": "ce4276e9-2912-4891-9a72-b2502aacf37d"
   },
   "outputs": [
    {
     "data": {
      "text/plain": [
       "<tf.Tensor 'ArgMax_6:0' shape=(1,) dtype=int64>"
      ]
     },
     "execution_count": 118,
     "metadata": {
      "tags": []
     },
     "output_type": "execute_result"
    }
   ],
   "source": [
    "pred"
   ]
  },
  {
   "cell_type": "code",
   "execution_count": null,
   "metadata": {
    "colab": {
     "base_uri": "https://localhost:8080/",
     "height": 34
    },
    "id": "YmdAsBwBcn_k",
    "outputId": "0f1fd881-8e66-4b61-8c40-0c3ac57f915d"
   },
   "outputs": [
    {
     "data": {
      "text/plain": [
       "4"
      ]
     },
     "execution_count": 119,
     "metadata": {
      "tags": []
     },
     "output_type": "execute_result"
    }
   ],
   "source": [
    "Y[52]"
   ]
  },
  {
   "cell_type": "code",
   "execution_count": null,
   "metadata": {
    "id": "mJtW3C7-fURX"
   },
   "outputs": [],
   "source": []
  }
 ],
 "metadata": {
  "accelerator": "GPU",
  "colab": {
   "collapsed_sections": [],
   "name": "FERwithCNN.ipynb",
   "provenance": []
  },
  "kernelspec": {
   "display_name": "Python 3",
   "language": "python",
   "name": "python3"
  },
  "language_info": {
   "codemirror_mode": {
    "name": "ipython",
    "version": 3
   },
   "file_extension": ".py",
   "mimetype": "text/x-python",
   "name": "python",
   "nbconvert_exporter": "python",
   "pygments_lexer": "ipython3",
   "version": "3.8.5"
  }
 },
 "nbformat": 4,
 "nbformat_minor": 1
}
